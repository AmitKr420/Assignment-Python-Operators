{
 "cells": [
  {
   "cell_type": "code",
   "execution_count": 3,
   "id": "eec4d348-959f-4c77-8d87-af387dabaecc",
   "metadata": {},
   "outputs": [
    {
     "name": "stdout",
     "output_type": "stream",
     "text": [
      "Sum: 11\n",
      "Difference: -1\n",
      "Product: 30\n",
      "Quotient: 0.8333333333333334\n"
     ]
    }
   ],
   "source": [
    "#Calculate the sum, difference, product, and quotient of two numbers.\n",
    "\n",
    "# Define the two numbers\n",
    "num1 = 5\n",
    "num2 = 6\n",
    "\n",
    "# Sum\n",
    "sum_result = num1 + num2\n",
    "\n",
    "# Difference\n",
    "difference_result = num1 - num2\n",
    "\n",
    "# Product\n",
    "product_result = num1 * num2\n",
    "\n",
    "# Quotient\n",
    "quotient_result = num1 / num2\n",
    "\n",
    "# Print the results\n",
    "print(\"Sum:\", sum_result)\n",
    "print(\"Difference:\", difference_result)\n",
    "print(\"Product:\", product_result)\n",
    "print(\"Quotient:\", quotient_result)"
   ]
  },
  {
   "cell_type": "code",
   "execution_count": 8,
   "id": "1894db1b-4168-494e-a98b-da18fd7f9196",
   "metadata": {},
   "outputs": [
    {
     "name": "stdout",
     "output_type": "stream",
     "text": [
      "Addition assignment: 8\n",
      "Subtraction assignment: 6\n",
      "Multiplication assignment: 24\n",
      "Division assignment: 8.0\n",
      "Modulus assignment: 3.0\n",
      "Floor division assignment: 1.0\n"
     ]
    }
   ],
   "source": [
    "#Perform various assignment operations on a variable.\n",
    "\n",
    "# Initial value\n",
    "x = 5\n",
    "\n",
    "# Addition assignment\n",
    "x += 3  # equivalent to x = x + 3\n",
    "print(\"Addition assignment:\", x) \n",
    "\n",
    "# Subtraction assignment\n",
    "x -= 2  # equivalent to x = x - 2\n",
    "print(\"Subtraction assignment:\", x) \n",
    "\n",
    "# Multiplication assignment\n",
    "x *= 4  # equivalent to x = x * 4\n",
    "print(\"Multiplication assignment:\", x) \n",
    "\n",
    "# Division assignment\n",
    "x /= 3  # equivalent to x = x / 3\n",
    "print(\"Division assignment:\", x)  \n",
    "\n",
    "# Modulus assignment\n",
    "x %= 5  # equivalent to x = x % 5\n",
    "print(\"Modulus assignment:\", x)  \n",
    "\n",
    "# Floor division assignment\n",
    "x //= 2  # equivalent to x = x // 2\n",
    "print(\"Floor division assignment:\", x) \n",
    "\n"
   ]
  },
  {
   "cell_type": "code",
   "execution_count": 9,
   "id": "1ca3c990-9e22-49d3-9905-e8839d956502",
   "metadata": {},
   "outputs": [
    {
     "name": "stdout",
     "output_type": "stream",
     "text": [
      "5 is less than 6\n"
     ]
    }
   ],
   "source": [
    "#Compare two nUmbers and print the results.\n",
    "# Define the two numbers\n",
    "number1 = 5\n",
    "number2 = 6\n",
    "\n",
    "# Compare the numbers\n",
    "if number1 < number2:\n",
    "    print(f\"{number1} is less than {number2}\")\n",
    "elif number1 > number2:\n",
    "    print(f\"{number1} is greater than {number2}\")\n",
    "else:\n",
    "    print(f\"{number1} is equal to {number2}\")"
   ]
  },
  {
   "cell_type": "code",
   "execution_count": 10,
   "id": "e44facc7-5623-4920-b1f2-1202c2a75f46",
   "metadata": {},
   "outputs": [
    {
     "name": "stdout",
     "output_type": "stream",
     "text": [
      "5 is less than 6 and not equal to zero\n"
     ]
    }
   ],
   "source": [
    "#Check conditions Using logical operators.\n",
    "\n",
    "# Define the two numbers\n",
    "number1 = 5\n",
    "number2 = 6\n",
    "\n",
    "# Check conditions using logical operators\n",
    "if number1 < number2 and number1 != 0:\n",
    "    print(f\"{number1} is less than {number2} and not equal to zero\")\n",
    "elif number1 == 0 or number2 == 0:\n",
    "    print(\"At least one of the numbers is equal to zero\")\n",
    "elif not (number1 == number2):\n",
    "    print(f\"{number1} is not equal to {number2}\")\n",
    "else:\n",
    "    print(f\"{number1} is equal to {number2}\")"
   ]
  },
  {
   "cell_type": "code",
   "execution_count": 12,
   "id": "3397c00d-c93c-42e7-8a07-8843731d7cea",
   "metadata": {},
   "outputs": [
    {
     "name": "stdout",
     "output_type": "stream",
     "text": [
      "x and y reference the same object\n",
      "x and y reference different objects\n"
     ]
    }
   ],
   "source": [
    "#Check the identity of variables.\n",
    "# Define variables\n",
    "x = 5\n",
    "y = 5\n",
    "\n",
    "# Check the identity of variables\n",
    "if id(x) == id(y):\n",
    "    print(\"x and y reference the same object\")\n",
    "else:\n",
    "    print(\"x and y reference different objects\")\n",
    "\n",
    "    # Define variables with different values\n",
    "x = 5\n",
    "y = 6\n",
    "\n",
    "# Check the identity of variables\n",
    "if id(x) == id(y):\n",
    "    print(\"x and y reference the same object\")\n",
    "else:\n",
    "    print(\"x and y reference different objects\")\n"
   ]
  },
  {
   "cell_type": "code",
   "execution_count": 13,
   "id": "9605796f-a159-4551-a3cf-3a100a9197a9",
   "metadata": {},
   "outputs": [
    {
     "name": "stdout",
     "output_type": "stream",
     "text": [
      "Bitwise AND: 0\n",
      "Bitwise OR: 15\n",
      "Bitwise XOR: 15\n",
      "Bitwise NOT of num1: -11\n",
      "Bitwise NOT of num2: -6\n",
      "Bitwise left shift of num1 by 1: 20\n",
      "Bitwise right shift of num2 by 1: 2\n"
     ]
    }
   ],
   "source": [
    "#Perform bitwise operations on any two integers.\n",
    "# Define two integers\n",
    "num1 = 10  # Binary: 1010\n",
    "num2 = 5   # Binary: 0101\n",
    "\n",
    "# Bitwise AND\n",
    "result_and = num1 & num2  # 1010 & 0101 = 0000 (0 in decimal)\n",
    "print(\"Bitwise AND:\", result_and)\n",
    "\n",
    "# Bitwise OR\n",
    "result_or = num1 | num2   # 1010 | 0101 = 1111 (15 in decimal)\n",
    "print(\"Bitwise OR:\", result_or)\n",
    "\n",
    "# Bitwise XOR\n",
    "result_xor = num1 ^ num2  # 1010 ^ 0101 = 1111 (15 in decimal)\n",
    "print(\"Bitwise XOR:\", result_xor)\n",
    "\n",
    "# Bitwise NOT (Unary operation)\n",
    "result_not_num1 = ~num1   # ~1010 = 0101 (-11 in decimal)\n",
    "result_not_num2 = ~num2   # ~0101 = 1010 (-6 in decimal)\n",
    "print(\"Bitwise NOT of num1:\", result_not_num1)\n",
    "print(\"Bitwise NOT of num2:\", result_not_num2)\n",
    "\n",
    "# Bitwise left shift\n",
    "result_left_shift = num1 << 1  # 1010 << 1 = 10100 (20 in decimal)\n",
    "print(\"Bitwise left shift of num1 by 1:\", result_left_shift)\n",
    "\n",
    "# Bitwise right shift\n",
    "result_right_shift = num2 >> 1  # 0101 >> 1 = 0010 (2 in decimal)\n",
    "print(\"Bitwise right shift of num2 by 1:\", result_right_shift)\n"
   ]
  },
  {
   "cell_type": "code",
   "execution_count": 14,
   "id": "17c66319-fa38-4338-8cf5-98a74dcdbd64",
   "metadata": {},
   "outputs": [
    {
     "name": "stdout",
     "output_type": "stream",
     "text": [
      "Original number: 6\n",
      "Negated number: -6\n"
     ]
    }
   ],
   "source": [
    "#Use unary operators to change the sign of a number.\n",
    "# Define a number\n",
    "number = 6\n",
    "\n",
    "# Change the sign using unary operator\n",
    "negated_number = -number\n",
    "\n",
    "print(\"Original number:\", number)\n",
    "print(\"Negated number:\", negated_number)\n",
    "\n"
   ]
  },
  {
   "cell_type": "code",
   "execution_count": 15,
   "id": "9d7993b7-2148-4bd6-8e0d-066b5ce4926d",
   "metadata": {},
   "outputs": [
    {
     "name": "stdout",
     "output_type": "stream",
     "text": [
      "Value is True\n"
     ]
    }
   ],
   "source": [
    "#Use the ternary operator to assign values based on conditions.\n",
    "\n",
    "# Define a condition\n",
    "condition = True\n",
    "\n",
    "# Assign values based on the condition using the ternary operator\n",
    "result = \"Value is True\" if condition else \"Value is False\"\n",
    "\n",
    "print(result)\n"
   ]
  },
  {
   "cell_type": "code",
   "execution_count": null,
   "id": "59a6a396-fdd1-44b4-bfd9-02ed1d268ed1",
   "metadata": {},
   "outputs": [],
   "source": []
  }
 ],
 "metadata": {
  "kernelspec": {
   "display_name": "Python 3 (ipykernel)",
   "language": "python",
   "name": "python3"
  },
  "language_info": {
   "codemirror_mode": {
    "name": "ipython",
    "version": 3
   },
   "file_extension": ".py",
   "mimetype": "text/x-python",
   "name": "python",
   "nbconvert_exporter": "python",
   "pygments_lexer": "ipython3",
   "version": "3.10.8"
  }
 },
 "nbformat": 4,
 "nbformat_minor": 5
}
